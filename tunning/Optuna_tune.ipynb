{
 "cells": [
  {
   "cell_type": "markdown",
   "metadata": {},
   "source": [
    "# Hyperparameters Optimization "
   ]
  },
  {
   "cell_type": "markdown",
   "metadata": {},
   "source": [
    "**With Optuna**"
   ]
  },
  {
   "cell_type": "code",
   "execution_count": 1,
   "metadata": {},
   "outputs": [
    {
     "name": "stderr",
     "output_type": "stream",
     "text": [
      "C:\\Users\\Usuario\\AppData\\Local\\Packages\\PythonSoftwareFoundation.Python.3.11_qbz5n2kfra8p0\\LocalCache\\local-packages\\Python311\\site-packages\\tqdm\\auto.py:21: TqdmWarning: IProgress not found. Please update jupyter and ipywidgets. See https://ipywidgets.readthedocs.io/en/stable/user_install.html\n",
      "  from .autonotebook import tqdm as notebook_tqdm\n"
     ]
    }
   ],
   "source": [
    "import numpy as np\n",
    "import pandas as pd\n",
    "import optuna\n",
    "from sklearn.ensemble import RandomForestClassifier\n",
    "from sklearn.linear_model import Ridge\n",
    "from sklearn.metrics import mean_squared_error\n",
    "from sklearn.metrics import accuracy_score\n",
    "from sklearn.model_selection import train_test_split\n",
    "from sklearn.model_selection import cross_val_score\n",
    "\n"
   ]
  },
  {
   "cell_type": "markdown",
   "metadata": {},
   "source": [
    "We will now use an algorithm that lets us find the optimal hyperparameters for our models.\n",
    "Optuna lets us optimize the values we use by repeating as many times as we like the process\n",
    "of combining the hyperparameters and searching for the best mix.\n"
   ]
  },
  {
   "cell_type": "code",
   "execution_count": 3,
   "metadata": {},
   "outputs": [],
   "source": [
    "# Load the data\n",
    "transformed_df=pd.read_csv(\"Train_temp_data.csv\")\n",
    "X = transformed_df.drop(['Item_Outlet_Sales'], axis=1)\n",
    "y = transformed_df['Item_Outlet_Sales'] \n",
    "X_train, X_test, y_train, y_test = train_test_split(X, y, test_size=0.2, random_state=42)"
   ]
  },
  {
   "cell_type": "markdown",
   "metadata": {},
   "source": [
    "We select the \"Ridge\" linear model because our prime regression model is linear."
   ]
  },
  {
   "cell_type": "code",
   "execution_count": 4,
   "metadata": {},
   "outputs": [],
   "source": [
    "# Define objective function\n",
    "def objective(trial):\n",
    "    # Define hiperparams to optimize\n",
    "    alpha = trial.suggest_float('alpha', 0.01, 1.0)\n",
    "    \n",
    "    \n",
    "    # Define model\n",
    "    model = Ridge(alpha=alpha)\n",
    "    model.fit(X_train, y_train)\n",
    "    y_pred = model.predict(X_test)\n",
    "    mse = mean_squared_error(y_test, y_pred)\n",
    "    \n",
    "    return mse"
   ]
  },
  {
   "cell_type": "markdown",
   "metadata": {},
   "source": [
    "Now its time to run some trials and select the best alpha value"
   ]
  },
  {
   "cell_type": "code",
   "execution_count": 5,
   "metadata": {},
   "outputs": [
    {
     "name": "stderr",
     "output_type": "stream",
     "text": [
      "[I 2023-10-20 10:12:09,332] A new study created in memory with name: no-name-bc875e54-c5c7-4f33-8821-e87459dc5679\n",
      "[I 2023-10-20 10:12:09,355] Trial 0 finished with value: 1198102.7003629257 and parameters: {'alpha': 0.48217866725887887}. Best is trial 0 with value: 1198102.7003629257.\n",
      "[I 2023-10-20 10:12:09,365] Trial 1 finished with value: 1198091.732665669 and parameters: {'alpha': 0.9535207109034333}. Best is trial 1 with value: 1198091.732665669.\n",
      "[I 2023-10-20 10:12:09,375] Trial 2 finished with value: 1198112.962669873 and parameters: {'alpha': 0.13656274723647624}. Best is trial 1 with value: 1198091.732665669.\n",
      "[I 2023-10-20 10:12:09,386] Trial 3 finished with value: 1198100.9938022224 and parameters: {'alpha': 0.5468568415482365}. Best is trial 1 with value: 1198091.732665669.\n",
      "[I 2023-10-20 10:12:09,394] Trial 4 finished with value: 1198094.2394159893 and parameters: {'alpha': 0.8320366021961788}. Best is trial 1 with value: 1198091.732665669.\n",
      "[I 2023-10-20 10:12:09,403] Trial 5 finished with value: 1198113.4585974496 and parameters: {'alpha': 0.12138761125032241}. Best is trial 1 with value: 1198091.732665669.\n",
      "[I 2023-10-20 10:12:09,413] Trial 6 finished with value: 1198108.8810131582 and parameters: {'alpha': 0.2662873316589514}. Best is trial 1 with value: 1198091.732665669.\n",
      "[I 2023-10-20 10:12:09,423] Trial 7 finished with value: 1198092.3113295771 and parameters: {'alpha': 0.924524311124559}. Best is trial 1 with value: 1198091.732665669.\n",
      "[I 2023-10-20 10:12:09,434] Trial 8 finished with value: 1198100.7432022544 and parameters: {'alpha': 0.5565694991282256}. Best is trial 1 with value: 1198091.732665669.\n",
      "[I 2023-10-20 10:12:09,445] Trial 9 finished with value: 1198107.842710604 and parameters: {'alpha': 0.3007809614099179}. Best is trial 1 with value: 1198091.732665669.\n",
      "[I 2023-10-20 10:12:09,622] Trial 10 finished with value: 1198090.8554538828 and parameters: {'alpha': 0.998695678490342}. Best is trial 10 with value: 1198090.8554538828.\n",
      "[I 2023-10-20 10:12:09,640] Trial 11 finished with value: 1198090.9172898512 and parameters: {'alpha': 0.9954607327999765}. Best is trial 10 with value: 1198090.8554538828.\n",
      "[I 2023-10-20 10:12:09,659] Trial 12 finished with value: 1198095.2782043517 and parameters: {'alpha': 0.7845673441207595}. Best is trial 10 with value: 1198090.8554538828.\n",
      "[I 2023-10-20 10:12:09,687] Trial 13 finished with value: 1198091.4082237384 and parameters: {'alpha': 0.9700524362274666}. Best is trial 10 with value: 1198090.8554538828.\n",
      "[I 2023-10-20 10:12:09,712] Trial 14 finished with value: 1198096.309533973 and parameters: {'alpha': 0.7388947454958524}. Best is trial 10 with value: 1198090.8554538828.\n",
      "[I 2023-10-20 10:12:09,735] Trial 15 finished with value: 1198097.233817681 and parameters: {'alpha': 0.6990998354288862}. Best is trial 10 with value: 1198090.8554538828.\n",
      "[I 2023-10-20 10:12:09,756] Trial 16 finished with value: 1198091.374037648 and parameters: {'alpha': 0.9718062120366007}. Best is trial 10 with value: 1198090.8554538828.\n",
      "[I 2023-10-20 10:12:09,784] Trial 17 finished with value: 1198093.8253355988 and parameters: {'alpha': 0.8513985534275956}. Best is trial 10 with value: 1198090.8554538828.\n",
      "[I 2023-10-20 10:12:09,803] Trial 18 finished with value: 1198090.9704037313 and parameters: {'alpha': 0.992688364784108}. Best is trial 10 with value: 1198090.8554538828.\n",
      "[I 2023-10-20 10:12:09,824] Trial 19 finished with value: 1198097.8332101463 and parameters: {'alpha': 0.673831099663455}. Best is trial 10 with value: 1198090.8554538828.\n",
      "[I 2023-10-20 10:12:09,849] Trial 20 finished with value: 1198094.1246227054 and parameters: {'alpha': 0.8373782479858296}. Best is trial 10 with value: 1198090.8554538828.\n",
      "[I 2023-10-20 10:12:09,871] Trial 21 finished with value: 1198091.1145632798 and parameters: {'alpha': 0.9851927043596137}. Best is trial 10 with value: 1198090.8554538828.\n",
      "[I 2023-10-20 10:12:09,889] Trial 22 finished with value: 1198093.1719946584 and parameters: {'alpha': 0.8824904448823263}. Best is trial 10 with value: 1198090.8554538828.\n",
      "[I 2023-10-20 10:12:09,910] Trial 23 finished with value: 1198090.989684582 and parameters: {'alpha': 0.9916833976787792}. Best is trial 10 with value: 1198090.8554538828.\n",
      "[I 2023-10-20 10:12:09,933] Trial 24 finished with value: 1198092.9217250794 and parameters: {'alpha': 0.8945836223521031}. Best is trial 10 with value: 1198090.8554538828.\n",
      "[I 2023-10-20 10:12:09,951] Trial 25 finished with value: 1198092.9699554476 and parameters: {'alpha': 0.8922450016772596}. Best is trial 10 with value: 1198090.8554538828.\n",
      "[I 2023-10-20 10:12:09,969] Trial 26 finished with value: 1198095.1718772121 and parameters: {'alpha': 0.7893564139532914}. Best is trial 10 with value: 1198090.8554538828.\n",
      "[I 2023-10-20 10:12:09,985] Trial 27 finished with value: 1198092.5230522975 and parameters: {'alpha': 0.9140658762917304}. Best is trial 10 with value: 1198090.8554538828.\n",
      "[I 2023-10-20 10:12:10,004] Trial 28 finished with value: 1198091.018159567 and parameters: {'alpha': 0.9902005962148904}. Best is trial 10 with value: 1198090.8554538828.\n",
      "[I 2023-10-20 10:12:10,023] Trial 29 finished with value: 1198098.3946765417 and parameters: {'alpha': 0.6505259197611429}. Best is trial 10 with value: 1198090.8554538828.\n",
      "[I 2023-10-20 10:12:10,041] Trial 30 finished with value: 1198095.2732474306 and parameters: {'alpha': 0.7847902650224626}. Best is trial 10 with value: 1198090.8554538828.\n",
      "[I 2023-10-20 10:12:10,067] Trial 31 finished with value: 1198092.3272565193 and parameters: {'alpha': 0.923734814919873}. Best is trial 10 with value: 1198090.8554538828.\n",
      "[I 2023-10-20 10:12:10,083] Trial 32 finished with value: 1198090.9917873736 and parameters: {'alpha': 0.9915738407500921}. Best is trial 10 with value: 1198090.8554538828.\n",
      "[I 2023-10-20 10:12:10,101] Trial 33 finished with value: 1198090.9553154048 and parameters: {'alpha': 0.9934753370817008}. Best is trial 10 with value: 1198090.8554538828.\n",
      "[I 2023-10-20 10:12:10,119] Trial 34 finished with value: 1198092.4601063344 and parameters: {'alpha': 0.9171669694196655}. Best is trial 10 with value: 1198090.8554538828.\n",
      "[I 2023-10-20 10:12:10,135] Trial 35 finished with value: 1198093.9624412314 and parameters: {'alpha': 0.8449588055853621}. Best is trial 10 with value: 1198090.8554538828.\n",
      "[I 2023-10-20 10:12:10,151] Trial 36 finished with value: 1198092.0270282454 and parameters: {'alpha': 0.938693751648923}. Best is trial 10 with value: 1198090.8554538828.\n",
      "[I 2023-10-20 10:12:10,168] Trial 37 finished with value: 1198093.4510292802 and parameters: {'alpha': 0.8691282669339541}. Best is trial 10 with value: 1198090.8554538828.\n",
      "[I 2023-10-20 10:12:10,185] Trial 38 finished with value: 1198092.0115315933 and parameters: {'alpha': 0.9394703141668352}. Best is trial 10 with value: 1198090.8554538828.\n",
      "[I 2023-10-20 10:12:10,201] Trial 39 finished with value: 1198094.6162726919 and parameters: {'alpha': 0.814637245132307}. Best is trial 10 with value: 1198090.8554538828.\n",
      "[I 2023-10-20 10:12:10,219] Trial 40 finished with value: 1198091.9493698769 and parameters: {'alpha': 0.9425897741464195}. Best is trial 10 with value: 1198090.8554538828.\n",
      "[I 2023-10-20 10:12:10,234] Trial 41 finished with value: 1198091.650789274 and parameters: {'alpha': 0.95767366266857}. Best is trial 10 with value: 1198090.8554538828.\n",
      "[I 2023-10-20 10:12:10,252] Trial 42 finished with value: 1198090.8677070094 and parameters: {'alpha': 0.9980540293228386}. Best is trial 10 with value: 1198090.8554538828.\n",
      "[I 2023-10-20 10:12:10,271] Trial 43 finished with value: 1198093.3955492675 and parameters: {'alpha': 0.8717750399340861}. Best is trial 10 with value: 1198090.8554538828.\n",
      "[I 2023-10-20 10:12:10,294] Trial 44 finished with value: 1198090.8309910912 and parameters: {'alpha': 0.9999776314438718}. Best is trial 44 with value: 1198090.8309910912.\n",
      "[I 2023-10-20 10:12:10,312] Trial 45 finished with value: 1198092.7506364863 and parameters: {'alpha': 0.9029110695797111}. Best is trial 44 with value: 1198090.8309910912.\n",
      "[I 2023-10-20 10:12:10,334] Trial 46 finished with value: 1198091.9623745847 and parameters: {'alpha': 0.9419365706093418}. Best is trial 44 with value: 1198090.8309910912.\n",
      "[I 2023-10-20 10:12:10,350] Trial 47 finished with value: 1198094.6261530593 and parameters: {'alpha': 0.8141838525244685}. Best is trial 44 with value: 1198090.8309910912.\n",
      "[I 2023-10-20 10:12:10,368] Trial 48 finished with value: 1198095.8695757475 and parameters: {'alpha': 0.7582087696543032}. Best is trial 44 with value: 1198090.8309910912.\n",
      "[I 2023-10-20 10:12:10,387] Trial 49 finished with value: 1198090.8692598303 and parameters: {'alpha': 0.997972736236062}. Best is trial 44 with value: 1198090.8309910912.\n",
      "[I 2023-10-20 10:12:10,404] Trial 50 finished with value: 1198093.6933626297 and parameters: {'alpha': 0.8576246313213024}. Best is trial 44 with value: 1198090.8309910912.\n",
      "[I 2023-10-20 10:12:10,427] Trial 51 finished with value: 1198090.8579396813 and parameters: {'alpha': 0.9985654816520982}. Best is trial 44 with value: 1198090.8309910912.\n",
      "[I 2023-10-20 10:12:10,446] Trial 52 finished with value: 1198091.7804913914 and parameters: {'alpha': 0.9511007450132375}. Best is trial 44 with value: 1198090.8309910912.\n",
      "[I 2023-10-20 10:12:10,468] Trial 53 finished with value: 1198090.834628612 and parameters: {'alpha': 0.9997869315090757}. Best is trial 44 with value: 1198090.8309910912.\n",
      "[I 2023-10-20 10:12:10,480] Trial 54 finished with value: 1198092.5919346178 and parameters: {'alpha': 0.9106802389607264}. Best is trial 44 with value: 1198090.8309910912.\n",
      "[I 2023-10-20 10:12:10,505] Trial 55 finished with value: 1198091.504940135 and parameters: {'alpha': 0.9651031317173278}. Best is trial 44 with value: 1198090.8309910912.\n",
      "[I 2023-10-20 10:12:10,527] Trial 56 finished with value: 1198091.6640163744 and parameters: {'alpha': 0.9570018935699344}. Best is trial 44 with value: 1198090.8309910912.\n",
      "[I 2023-10-20 10:12:10,550] Trial 57 finished with value: 1198093.2307173507 and parameters: {'alpha': 0.879667889118}. Best is trial 44 with value: 1198090.8309910912.\n",
      "[I 2023-10-20 10:12:10,567] Trial 58 finished with value: 1198090.9001810683 and parameters: {'alpha': 0.9963549885851196}. Best is trial 44 with value: 1198090.8309910912.\n",
      "[I 2023-10-20 10:12:10,584] Trial 59 finished with value: 1198094.1206888247 and parameters: {'alpha': 0.8375616521260834}. Best is trial 44 with value: 1198090.8309910912.\n",
      "[I 2023-10-20 10:12:10,609] Trial 60 finished with value: 1198092.538762045 and parameters: {'alpha': 0.9132929996057255}. Best is trial 44 with value: 1198090.8309910912.\n",
      "[I 2023-10-20 10:12:10,633] Trial 61 finished with value: 1198090.8783042608 and parameters: {'alpha': 0.9974993424077623}. Best is trial 44 with value: 1198090.8309910912.\n",
      "[I 2023-10-20 10:12:10,651] Trial 62 finished with value: 1198090.8391505743 and parameters: {'alpha': 0.9995499023353799}. Best is trial 44 with value: 1198090.8309910912.\n",
      "[I 2023-10-20 10:12:10,669] Trial 63 finished with value: 1198091.5895891667 and parameters: {'alpha': 0.960786194524075}. Best is trial 44 with value: 1198090.8309910912.\n",
      "[I 2023-10-20 10:12:10,687] Trial 64 finished with value: 1198091.4843629731 and parameters: {'alpha': 0.96615461460913}. Best is trial 44 with value: 1198090.8309910912.\n",
      "[I 2023-10-20 10:12:10,705] Trial 65 finished with value: 1198093.0036590316 and parameters: {'alpha': 0.890613071370924}. Best is trial 44 with value: 1198090.8309910912.\n",
      "[I 2023-10-20 10:12:10,720] Trial 66 finished with value: 1198092.2813439653 and parameters: {'alpha': 0.9260119196587233}. Best is trial 44 with value: 1198090.8309910912.\n",
      "[I 2023-10-20 10:12:10,735] Trial 67 finished with value: 1198090.8445606162 and parameters: {'alpha': 0.9992663781197969}. Best is trial 44 with value: 1198090.8309910912.\n",
      "[I 2023-10-20 10:12:10,751] Trial 68 finished with value: 1198091.5187535253 and parameters: {'alpha': 0.9643977333117842}. Best is trial 44 with value: 1198090.8309910912.\n",
      "[I 2023-10-20 10:12:10,767] Trial 69 finished with value: 1198092.9041752128 and parameters: {'alpha': 0.8954355577099798}. Best is trial 44 with value: 1198090.8309910912.\n",
      "[I 2023-10-20 10:12:10,782] Trial 70 finished with value: 1198092.214145592 and parameters: {'alpha': 0.9293515192112899}. Best is trial 44 with value: 1198090.8309910912.\n",
      "[I 2023-10-20 10:12:10,799] Trial 71 finished with value: 1198091.3534839652 and parameters: {'alpha': 0.9728617351677524}. Best is trial 44 with value: 1198090.8309910912.\n",
      "[I 2023-10-20 10:12:10,818] Trial 72 finished with value: 1198090.88224617 and parameters: {'alpha': 0.9972930721441542}. Best is trial 44 with value: 1198090.8309910912.\n",
      "[I 2023-10-20 10:12:10,834] Trial 73 finished with value: 1198092.047970908 and parameters: {'alpha': 0.9376449794319153}. Best is trial 44 with value: 1198090.8309910912.\n",
      "[I 2023-10-20 10:12:10,853] Trial 74 finished with value: 1198090.8369988548 and parameters: {'alpha': 0.9996626844388697}. Best is trial 44 with value: 1198090.8309910912.\n",
      "[I 2023-10-20 10:12:10,870] Trial 75 finished with value: 1198093.5517512138 and parameters: {'alpha': 0.8643356946139833}. Best is trial 44 with value: 1198090.8309910912.\n",
      "[I 2023-10-20 10:12:10,887] Trial 76 finished with value: 1198091.3494167957 and parameters: {'alpha': 0.9730707006732585}. Best is trial 44 with value: 1198090.8309910912.\n",
      "[I 2023-10-20 10:12:10,904] Trial 77 finished with value: 1198092.3980919046 and parameters: {'alpha': 0.9202289679734222}. Best is trial 44 with value: 1198090.8309910912.\n",
      "[I 2023-10-20 10:12:10,921] Trial 78 finished with value: 1198091.517404261 and parameters: {'alpha': 0.9644666189866468}. Best is trial 44 with value: 1198090.8309910912.\n",
      "[I 2023-10-20 10:12:10,939] Trial 79 finished with value: 1198093.124204951 and parameters: {'alpha': 0.8847916677357737}. Best is trial 44 with value: 1198090.8309910912.\n",
      "[I 2023-10-20 10:12:10,959] Trial 80 finished with value: 1198092.1013810486 and parameters: {'alpha': 0.9349739175810033}. Best is trial 44 with value: 1198090.8309910912.\n",
      "[I 2023-10-20 10:12:10,972] Trial 81 finished with value: 1198090.8809845236 and parameters: {'alpha': 0.9973590874685775}. Best is trial 44 with value: 1198090.8309910912.\n",
      "[I 2023-10-20 10:12:10,994] Trial 82 finished with value: 1198090.8492761154 and parameters: {'alpha': 0.9990193023249999}. Best is trial 44 with value: 1198090.8309910912.\n",
      "[I 2023-10-20 10:12:11,011] Trial 83 finished with value: 1198091.3361792013 and parameters: {'alpha': 0.973751054879224}. Best is trial 44 with value: 1198090.8309910912.\n",
      "[I 2023-10-20 10:12:11,034] Trial 84 finished with value: 1198091.9611210967 and parameters: {'alpha': 0.9419995175139105}. Best is trial 44 with value: 1198090.8309910912.\n",
      "[I 2023-10-20 10:12:11,052] Trial 85 finished with value: 1198092.7755330733 and parameters: {'alpha': 0.9016961853457531}. Best is trial 44 with value: 1198090.8309910912.\n",
      "[I 2023-10-20 10:12:11,072] Trial 86 finished with value: 1198091.346318739 and parameters: {'alpha': 0.9732298963147935}. Best is trial 44 with value: 1198090.8309910912.\n",
      "[I 2023-10-20 10:12:11,088] Trial 87 finished with value: 1198092.0135047114 and parameters: {'alpha': 0.939371413534407}. Best is trial 44 with value: 1198090.8309910912.\n",
      "[I 2023-10-20 10:12:11,110] Trial 88 finished with value: 1198090.844747465 and parameters: {'alpha': 0.9992565870038014}. Best is trial 44 with value: 1198090.8309910912.\n",
      "[I 2023-10-20 10:12:11,122] Trial 89 finished with value: 1198092.6508938193 and parameters: {'alpha': 0.907788863478654}. Best is trial 44 with value: 1198090.8309910912.\n",
      "[I 2023-10-20 10:12:11,145] Trial 90 finished with value: 1198091.2680670593 and parameters: {'alpha': 0.9772571795186333}. Best is trial 44 with value: 1198090.8309910912.\n",
      "[I 2023-10-20 10:12:11,160] Trial 91 finished with value: 1198090.843718483 and parameters: {'alpha': 0.9993105078253572}. Best is trial 44 with value: 1198090.8309910912.\n",
      "[I 2023-10-20 10:12:11,178] Trial 92 finished with value: 1198091.828548288 and parameters: {'alpha': 0.9486734087519576}. Best is trial 44 with value: 1198090.8309910912.\n",
      "[I 2023-10-20 10:12:11,197] Trial 93 finished with value: 1198091.3233652243 and parameters: {'alpha': 0.9744099653121966}. Best is trial 44 with value: 1198090.8309910912.\n",
      "[I 2023-10-20 10:12:11,212] Trial 94 finished with value: 1198091.7804059195 and parameters: {'alpha': 0.9511050660267848}. Best is trial 44 with value: 1198090.8309910912.\n",
      "[I 2023-10-20 10:12:11,225] Trial 95 finished with value: 1198090.843863542 and parameters: {'alpha': 0.9993029062937623}. Best is trial 44 with value: 1198090.8309910912.\n",
      "[I 2023-10-20 10:12:11,247] Trial 96 finished with value: 1198092.385695432 and parameters: {'alpha': 0.9208418638779281}. Best is trial 44 with value: 1198090.8309910912.\n",
      "[I 2023-10-20 10:12:11,266] Trial 97 finished with value: 1198091.1479388895 and parameters: {'alpha': 0.9834633099944039}. Best is trial 44 with value: 1198090.8309910912.\n",
      "[I 2023-10-20 10:12:11,284] Trial 98 finished with value: 1198091.752446716 and parameters: {'alpha': 0.9525192741187914}. Best is trial 44 with value: 1198090.8309910912.\n",
      "[I 2023-10-20 10:12:11,304] Trial 99 finished with value: 1198093.5303596423 and parameters: {'alpha': 0.8653522050825272}. Best is trial 44 with value: 1198090.8309910912.\n"
     ]
    },
    {
     "data": {
      "text/html": [
       "<style>#sk-container-id-1 {color: black;}#sk-container-id-1 pre{padding: 0;}#sk-container-id-1 div.sk-toggleable {background-color: white;}#sk-container-id-1 label.sk-toggleable__label {cursor: pointer;display: block;width: 100%;margin-bottom: 0;padding: 0.3em;box-sizing: border-box;text-align: center;}#sk-container-id-1 label.sk-toggleable__label-arrow:before {content: \"▸\";float: left;margin-right: 0.25em;color: #696969;}#sk-container-id-1 label.sk-toggleable__label-arrow:hover:before {color: black;}#sk-container-id-1 div.sk-estimator:hover label.sk-toggleable__label-arrow:before {color: black;}#sk-container-id-1 div.sk-toggleable__content {max-height: 0;max-width: 0;overflow: hidden;text-align: left;background-color: #f0f8ff;}#sk-container-id-1 div.sk-toggleable__content pre {margin: 0.2em;color: black;border-radius: 0.25em;background-color: #f0f8ff;}#sk-container-id-1 input.sk-toggleable__control:checked~div.sk-toggleable__content {max-height: 200px;max-width: 100%;overflow: auto;}#sk-container-id-1 input.sk-toggleable__control:checked~label.sk-toggleable__label-arrow:before {content: \"▾\";}#sk-container-id-1 div.sk-estimator input.sk-toggleable__control:checked~label.sk-toggleable__label {background-color: #d4ebff;}#sk-container-id-1 div.sk-label input.sk-toggleable__control:checked~label.sk-toggleable__label {background-color: #d4ebff;}#sk-container-id-1 input.sk-hidden--visually {border: 0;clip: rect(1px 1px 1px 1px);clip: rect(1px, 1px, 1px, 1px);height: 1px;margin: -1px;overflow: hidden;padding: 0;position: absolute;width: 1px;}#sk-container-id-1 div.sk-estimator {font-family: monospace;background-color: #f0f8ff;border: 1px dotted black;border-radius: 0.25em;box-sizing: border-box;margin-bottom: 0.5em;}#sk-container-id-1 div.sk-estimator:hover {background-color: #d4ebff;}#sk-container-id-1 div.sk-parallel-item::after {content: \"\";width: 100%;border-bottom: 1px solid gray;flex-grow: 1;}#sk-container-id-1 div.sk-label:hover label.sk-toggleable__label {background-color: #d4ebff;}#sk-container-id-1 div.sk-serial::before {content: \"\";position: absolute;border-left: 1px solid gray;box-sizing: border-box;top: 0;bottom: 0;left: 50%;z-index: 0;}#sk-container-id-1 div.sk-serial {display: flex;flex-direction: column;align-items: center;background-color: white;padding-right: 0.2em;padding-left: 0.2em;position: relative;}#sk-container-id-1 div.sk-item {position: relative;z-index: 1;}#sk-container-id-1 div.sk-parallel {display: flex;align-items: stretch;justify-content: center;background-color: white;position: relative;}#sk-container-id-1 div.sk-item::before, #sk-container-id-1 div.sk-parallel-item::before {content: \"\";position: absolute;border-left: 1px solid gray;box-sizing: border-box;top: 0;bottom: 0;left: 50%;z-index: -1;}#sk-container-id-1 div.sk-parallel-item {display: flex;flex-direction: column;z-index: 1;position: relative;background-color: white;}#sk-container-id-1 div.sk-parallel-item:first-child::after {align-self: flex-end;width: 50%;}#sk-container-id-1 div.sk-parallel-item:last-child::after {align-self: flex-start;width: 50%;}#sk-container-id-1 div.sk-parallel-item:only-child::after {width: 0;}#sk-container-id-1 div.sk-dashed-wrapped {border: 1px dashed gray;margin: 0 0.4em 0.5em 0.4em;box-sizing: border-box;padding-bottom: 0.4em;background-color: white;}#sk-container-id-1 div.sk-label label {font-family: monospace;font-weight: bold;display: inline-block;line-height: 1.2em;}#sk-container-id-1 div.sk-label-container {text-align: center;}#sk-container-id-1 div.sk-container {/* jupyter's `normalize.less` sets `[hidden] { display: none; }` but bootstrap.min.css set `[hidden] { display: none !important; }` so we also need the `!important` here to be able to override the default hidden behavior on the sphinx rendered scikit-learn.org. See: https://github.com/scikit-learn/scikit-learn/issues/21755 */display: inline-block !important;position: relative;}#sk-container-id-1 div.sk-text-repr-fallback {display: none;}</style><div id=\"sk-container-id-1\" class=\"sk-top-container\"><div class=\"sk-text-repr-fallback\"><pre>Ridge(alpha=0.9999776314438718)</pre><b>In a Jupyter environment, please rerun this cell to show the HTML representation or trust the notebook. <br />On GitHub, the HTML representation is unable to render, please try loading this page with nbviewer.org.</b></div><div class=\"sk-container\" hidden><div class=\"sk-item\"><div class=\"sk-estimator sk-toggleable\"><input class=\"sk-toggleable__control sk-hidden--visually\" id=\"sk-estimator-id-1\" type=\"checkbox\" checked><label for=\"sk-estimator-id-1\" class=\"sk-toggleable__label sk-toggleable__label-arrow\">Ridge</label><div class=\"sk-toggleable__content\"><pre>Ridge(alpha=0.9999776314438718)</pre></div></div></div></div></div>"
      ],
      "text/plain": [
       "Ridge(alpha=0.9999776314438718)"
      ]
     },
     "execution_count": 5,
     "metadata": {},
     "output_type": "execute_result"
    }
   ],
   "source": [
    "study = optuna.create_study(direction='minimize')  \n",
    "study.optimize(objective, n_trials=100) \n",
    "\n",
    "best_params = study.best_params \n",
    "\n",
    "best_alpha = best_params['alpha']\n",
    "final_model = Ridge(alpha=best_alpha)\n",
    "final_model.fit(X, y)"
   ]
  },
  {
   "cell_type": "markdown",
   "metadata": {},
   "source": [
    "Ahora tenemos el valor de alpha optimizado y el modelo nuevo con este parametro actualizado."
   ]
  }
 ],
 "metadata": {
  "kernelspec": {
   "display_name": ".venv",
   "language": "python",
   "name": "python3"
  },
  "language_info": {
   "codemirror_mode": {
    "name": "ipython",
    "version": 3
   },
   "file_extension": ".py",
   "mimetype": "text/x-python",
   "name": "python",
   "nbconvert_exporter": "python",
   "pygments_lexer": "ipython3",
   "version": "3.11.6"
  }
 },
 "nbformat": 4,
 "nbformat_minor": 2
}
